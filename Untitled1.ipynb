{
  "nbformat": 4,
  "nbformat_minor": 0,
  "metadata": {
    "colab": {
      "provenance": [],
      "authorship_tag": "ABX9TyPowUuU2Eh8xtEvqJQCyhn1",
      "include_colab_link": true
    },
    "kernelspec": {
      "name": "python3",
      "display_name": "Python 3"
    },
    "language_info": {
      "name": "python"
    }
  },
  "cells": [
    {
      "cell_type": "markdown",
      "metadata": {
        "id": "view-in-github",
        "colab_type": "text"
      },
      "source": [
        "<a href=\"https://colab.research.google.com/github/ANUBHAV4646/PRODIGY_GAI_01/blob/main/Untitled1.ipynb\" target=\"_parent\"><img src=\"https://colab.research.google.com/assets/colab-badge.svg\" alt=\"Open In Colab\"/></a>"
      ]
    },
    {
      "cell_type": "code",
      "execution_count": null,
      "metadata": {
        "id": "SUHPSJdJDhYl"
      },
      "outputs": [],
      "source": [
        "!pip install transformers datasets --quiet\n",
        "\n",
        "from transformers import GPT2Tokenizer, GPT2LMHeadModel, Trainer, TrainingArguments, DataCollatorForLanguageModeling\n",
        "from datasets import Dataset\n",
        "import torch\n",
        "\n",
        "texts = [\n",
        "    {\"text\": \"Hello, how are you doing today?\"},\n",
        "    {\"text\": \"I am fine, thank you for asking.\"},\n",
        "    {\"text\": \"My name is Anubhav, and I love coding.\"},\n",
        "    {\"text\": \"Today, we are learning how to fine-tune GPT-2.\"},\n",
        "    {\"text\": \"Let's generate some creative and coherent text.\"},\n",
        "    {\"text\": \"Machine learning is an exciting field.\"},\n",
        "    {\"text\": \"Natural language processing enables computers to understand text.\"},\n",
        "    {\"text\": \"Transformers have revolutionized language models.\"},\n",
        "    {\"text\": \"Fine-tuning helps adapt pre-trained models to specific tasks.\"},\n",
        "    {\"text\": \"Keep practicing to improve your AI skills every day.\"}\n",
        "]\n",
        "\n",
        "dataset = Dataset.from_list(texts)\n",
        "\n",
        "model_name = 'gpt2'\n",
        "tokenizer = GPT2Tokenizer.from_pretrained(model_name)\n",
        "model = GPT2LMHeadModel.from_pretrained(model_name)\n",
        "\n",
        "tokenizer.pad_token = tokenizer.eos_token\n",
        "model.config.pad_token_id = tokenizer.eos_token_id\n",
        "\n",
        "def tokenize_function(examples):\n",
        "    return tokenizer(examples[\"text\"], truncation=True, padding=\"max_length\", max_length=64)\n",
        "\n",
        "tokenized_dataset = dataset.map(tokenize_function, batched=True)\n",
        "\n",
        "data_collator = DataCollatorForLanguageModeling(tokenizer=tokenizer, mlm=False)\n",
        "\n",
        "training_args = TrainingArguments(\n",
        "    output_dir=\"./gpt2-finetuned\",\n",
        "    overwrite_output_dir=True,\n",
        "    num_train_epochs=5,\n",
        "    per_device_train_batch_size=2,\n",
        "    save_steps=50,\n",
        "    save_total_limit=2,\n",
        "    logging_steps=10,\n",
        "    learning_rate=5e-5,\n",
        "    warmup_steps=10,\n",
        "    weight_decay=0.01,\n",
        "    logging_dir=\"./logs\",\n",
        "    report_to=[],\n",
        ")\n",
        "\n",
        "trainer = Trainer(\n",
        "    model=model,\n",
        "    args=training_args,\n",
        "    train_dataset=tokenized_dataset,\n",
        "    data_collator=data_collator,\n",
        ")\n",
        "\n",
        "trainer.train()\n",
        "\n",
        "trainer.save_model(\"./gpt2-finetuned\")\n",
        "tokenizer.save_pretrained(\"./gpt2-finetuned\")\n",
        "\n",
        "print(\"Training complete and model saved!\")\n"
      ]
    },
    {
      "cell_type": "code",
      "source": [
        "from transformers import GPT2Tokenizer, GPT2LMHeadModel\n",
        "import torch\n",
        "\n",
        "def generate_text(prompt, model_dir='./gpt2-finetuned', max_length=100, num_return_sequences=1):\n",
        "\n",
        "    tokenizer = GPT2Tokenizer.from_pretrained(model_dir)\n",
        "    model = GPT2LMHeadModel.from_pretrained(model_dir)\n",
        "    model.eval()\n",
        "\n",
        "\n",
        "    device = torch.device('cuda' if torch.cuda.is_available() else 'cpu')\n",
        "    model.to(device)\n",
        "\n",
        "    inputs = tokenizer(prompt, return_tensors='pt', padding=True, truncation=True)\n",
        "    input_ids = inputs['input_ids'].to(device)\n",
        "    attention_mask = inputs['attention_mask'].to(device)\n",
        "\n",
        "    outputs = model.generate(\n",
        "        input_ids=input_ids,\n",
        "        attention_mask=attention_mask,\n",
        "        max_length=max_length,\n",
        "        do_sample=True,\n",
        "        top_k=50,\n",
        "        top_p=0.95,\n",
        "        num_return_sequences=num_return_sequences,\n",
        "        no_repeat_ngram_size=2,\n",
        "        pad_token_id=tokenizer.eos_token_id\n",
        "    )\n",
        "\n",
        "    generated_texts = [tokenizer.decode(output, skip_special_tokens=True) for output in outputs]\n",
        "    return generated_texts\n",
        "\n",
        "if __name__ == \"__main__\":\n",
        "    prompt = input(\"Enter your prompt: \")\n",
        "    generated_texts = generate_text(prompt, num_return_sequences=1)\n",
        "    for i, text in enumerate(generated_texts):\n",
        "        print(f\"\\nGenerated text {i+1}:\\n{text}\")\n"
      ],
      "metadata": {
        "id": "glPPNlcZDmkR"
      },
      "execution_count": null,
      "outputs": []
    }
  ]
}